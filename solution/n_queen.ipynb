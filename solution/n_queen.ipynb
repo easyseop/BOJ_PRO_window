{
  "nbformat": 4,
  "nbformat_minor": 0,
  "metadata": {
    "colab": {
      "name": "n-queen.ipynb",
      "provenance": [],
      "authorship_tag": "ABX9TyPRkaF3vadXA735JNYFXiBb",
      "include_colab_link": true
    },
    "kernelspec": {
      "name": "python3",
      "display_name": "Python 3"
    },
    "language_info": {
      "name": "python"
    }
  },
  "cells": [
    {
      "cell_type": "markdown",
      "metadata": {
        "id": "view-in-github",
        "colab_type": "text"
      },
      "source": [
        "<a href=\"https://colab.research.google.com/github/easyseop/BOJ-Solution/blob/main/n_queen.ipynb\" target=\"_parent\"><img src=\"https://colab.research.google.com/assets/colab-badge.svg\" alt=\"Open In Colab\"/></a>"
      ]
    },
    {
      "cell_type": "code",
      "source": [
        "n = int(input())\n"
      ],
      "metadata": {
        "colab": {
          "base_uri": "https://localhost:8080/"
        },
        "id": "8nowrZ8E6hLT",
        "outputId": "ae58ad0b-58ae-495a-ff71-0241539c156a"
      },
      "execution_count": 230,
      "outputs": [
        {
          "name": "stdout",
          "output_type": "stream",
          "text": [
            "8\n"
          ]
        }
      ]
    },
    {
      "cell_type": "code",
      "source": [
        " \n",
        "def pro(queen,x):\n",
        "    for j in range(x):\n",
        "        if queen[x]==queen[j] or abs(queen[x]-queen[j])==abs(x-j):\n",
        "            return False\n",
        "    return True"
      ],
      "metadata": {
        "id": "V1iabHSJ6tJv"
      },
      "execution_count": 231,
      "outputs": []
    },
    {
      "cell_type": "code",
      "source": [
        "# queen = [0]*n\n",
        "cnt=0\n",
        "def dfs(queen,row,n):\n",
        "    global cnt\n",
        "    if n==row:\n",
        "        cnt+=1\n",
        "    else:\n",
        "        for i in range(n):\n",
        "            queen[row]=i\n",
        "            if pro(queen,row):\n",
        "                print(row,queen)\n",
        "                dfs(queen,row+1,n)\n",
        "dfs([0]*n,0,n)\n",
        "print(cnt)"
      ],
      "metadata": {
        "id": "-SDqJJNuTiDz"
      },
      "execution_count": null,
      "outputs": []
    },
    {
      "cell_type": "code",
      "source": [
        "dfs(0,n)"
      ],
      "metadata": {
        "id": "zMcbHyGeTzVA",
        "colab": {
          "base_uri": "https://localhost:8080/",
          "height": 166
        },
        "outputId": "f25fb618-6431-4e79-c559-2f5b0c1f3c83"
      },
      "execution_count": 233,
      "outputs": [
        {
          "output_type": "error",
          "ename": "TypeError",
          "evalue": "ignored",
          "traceback": [
            "\u001b[0;31m---------------------------------------------------------------------------\u001b[0m",
            "\u001b[0;31mTypeError\u001b[0m                                 Traceback (most recent call last)",
            "\u001b[0;32m<ipython-input-233-9d924cd467bc>\u001b[0m in \u001b[0;36m<module>\u001b[0;34m()\u001b[0m\n\u001b[0;32m----> 1\u001b[0;31m \u001b[0mdfs\u001b[0m\u001b[0;34m(\u001b[0m\u001b[0;36m0\u001b[0m\u001b[0;34m,\u001b[0m\u001b[0mn\u001b[0m\u001b[0;34m)\u001b[0m\u001b[0;34m\u001b[0m\u001b[0;34m\u001b[0m\u001b[0m\n\u001b[0m",
            "\u001b[0;31mTypeError\u001b[0m: dfs() missing 1 required positional argument: 'n'"
          ]
        }
      ]
    },
    {
      "cell_type": "code",
      "source": [
        "def is_promising(x):\n",
        "    for i in range(x):\n",
        "        if row[x] == row[i] or abs(row[x] - row[i]) == abs(x - i):\n",
        "            return False\n",
        "    "
      ],
      "metadata": {
        "id": "MscQwpNaT2qR"
      },
      "execution_count": 191,
      "outputs": []
    },
    {
      "cell_type": "code",
      "source": [
        "f2(lis)\n"
      ],
      "metadata": {
        "id": "5J6j4HcF6DSG"
      },
      "execution_count": 169,
      "outputs": []
    },
    {
      "cell_type": "code",
      "source": [
        "f()cnt"
      ],
      "metadata": {
        "colab": {
          "base_uri": "https://localhost:8080/",
          "height": 131
        },
        "id": "mXx0AX5mECLZ",
        "outputId": "6a0135ab-f0b2-40f6-aaad-b8ea5c94702d"
      },
      "execution_count": 217,
      "outputs": [
        {
          "output_type": "error",
          "ename": "SyntaxError",
          "evalue": "ignored",
          "traceback": [
            "\u001b[0;36m  File \u001b[0;32m\"<ipython-input-217-42a926ce4b79>\"\u001b[0;36m, line \u001b[0;32m1\u001b[0m\n\u001b[0;31m    f()cnt\u001b[0m\n\u001b[0m         ^\u001b[0m\n\u001b[0;31mSyntaxError\u001b[0m\u001b[0;31m:\u001b[0m invalid syntax\n"
          ]
        }
      ]
    },
    {
      "cell_type": "code",
      "source": [
        "lis"
      ],
      "metadata": {
        "colab": {
          "base_uri": "https://localhost:8080/"
        },
        "id": "VayRBqldEDYA",
        "outputId": "372a362b-85aa-4cac-ad54-b0a70bcfee35"
      },
      "execution_count": 175,
      "outputs": [
        {
          "output_type": "execute_result",
          "data": {
            "text/plain": [
              "[1, 1, 1, 1, 1, 1, 1, 1, 0, 0, 0]"
            ]
          },
          "metadata": {},
          "execution_count": 175
        }
      ]
    },
    {
      "cell_type": "code",
      "source": [
        ""
      ],
      "metadata": {
        "id": "BzJ1DSazf7Pq"
      },
      "execution_count": null,
      "outputs": []
    }
  ]
}